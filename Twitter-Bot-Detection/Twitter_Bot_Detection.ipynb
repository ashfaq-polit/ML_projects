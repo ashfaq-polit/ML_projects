{
  "nbformat": 4,
  "nbformat_minor": 0,
  "metadata": {
    "colab": {
      "provenance": []
    },
    "kernelspec": {
      "name": "python3",
      "display_name": "Python 3"
    },
    "language_info": {
      "name": "python"
    }
  },
  "cells": [
    {
      "cell_type": "markdown",
      "source": [
        "# Load the dataset"
      ],
      "metadata": {
        "id": "45L5CC-uxzR1"
      }
    },
    {
      "cell_type": "code",
      "source": [
        "import pandas as pd\n",
        "import numpy as np\n",
        "from sklearn.model_selection import train_test_split, GridSearchCV\n",
        "from sklearn.feature_extraction.text import TfidfVectorizer\n",
        "from sklearn.ensemble import RandomForestClassifier\n",
        "from sklearn.preprocessing import StandardScaler, LabelEncoder\n",
        "from sklearn.metrics import accuracy_score, classification_report\n",
        "from scipy.sparse import hstack\n",
        "\n",
        "\n",
        "file_path = './twitter_replies_data.csv'  # Update if needed\n",
        "df = pd.read_csv(file_path)\n",
        "\n"
      ],
      "metadata": {
        "colab": {
          "base_uri": "https://localhost:8080/"
        },
        "id": "-NTWL9Zqr27g",
        "outputId": "20983f51-2f79-477a-a7e2-2bdea7b6b452"
      },
      "execution_count": 9,
      "outputs": [
        {
          "output_type": "stream",
          "name": "stdout",
          "text": [
            "Fitting 3 folds for each of 81 candidates, totalling 243 fits\n",
            "Best Parameters: {'max_depth': 10, 'min_samples_leaf': 1, 'min_samples_split': 10, 'n_estimators': 50}\n",
            "Accuracy: 0.95\n",
            "Classification Report:\n",
            "               precision    recall  f1-score   support\n",
            "\n",
            "           0       0.93      1.00      0.97        28\n",
            "           1       1.00      0.78      0.88         9\n",
            "\n",
            "    accuracy                           0.95        37\n",
            "   macro avg       0.97      0.89      0.92        37\n",
            "weighted avg       0.95      0.95      0.94        37\n",
            "\n"
          ]
        }
      ]
    },
    {
      "cell_type": "markdown",
      "source": [
        "# Pre-processing"
      ],
      "metadata": {
        "id": "ghU6K22Zx6GM"
      }
    },
    {
      "cell_type": "code",
      "source": [
        "# Check for missing values\n",
        "df.dropna(inplace=True)\n",
        "\n",
        "# Define features and target variable\n",
        "text_feature = df['clean_text']  # Text-based feature\n",
        "y = df['is_bot?']  # Target (0 = human, 1 = bot)\n",
        "\n",
        "# Identify categorical and numerical columns\n",
        "categorical_cols = df.select_dtypes(include=['object']).columns.difference(['clean_text'])\n",
        "numeric_cols = df.select_dtypes(include=['number']).columns\n",
        "\n",
        "# Encode categorical variables\n",
        "label_encoders = {}\n",
        "for col in categorical_cols:\n",
        "    le = LabelEncoder()\n",
        "    df[col] = le.fit_transform(df[col].astype(str))  # Convert all categories to numbers\n",
        "    label_encoders[col] = le\n",
        "\n",
        "# Extract numeric and encoded categorical features\n",
        "numeric_features = df[numeric_cols.union(categorical_cols)]\n",
        "\n",
        "# Convert text data to numerical format using TF-IDF\n",
        "vectorizer = TfidfVectorizer(max_features=5000)  # Limiting to 5000 features for efficiency\n",
        "X_tfidf = vectorizer.fit_transform(text_feature)\n",
        "\n",
        "# Standardize numeric features\n",
        "scaler = StandardScaler()\n",
        "X_numeric = scaler.fit_transform(numeric_features)\n",
        "\n",
        "# Combine text and numeric features\n",
        "X_combined = hstack([X_tfidf, X_numeric])\n",
        "\n"
      ],
      "metadata": {
        "id": "DtU0ZjHgx6WQ"
      },
      "execution_count": null,
      "outputs": []
    },
    {
      "cell_type": "markdown",
      "source": [
        "# Training the Model"
      ],
      "metadata": {
        "id": "ED10d3u4yBSl"
      }
    },
    {
      "cell_type": "code",
      "source": [
        "# Split data into training and testing sets\n",
        "X_train, X_test, y_train, y_test = train_test_split(X_combined, y, test_size=0.2, random_state=42)\n",
        "\n",
        "# Define a Random Forest model with hyperparameter tuning\n",
        "param_grid = {\n",
        "    'n_estimators': [50, 100, 200],\n",
        "    'max_depth': [10, 20, None],\n",
        "    'min_samples_split': [2, 5, 10],\n",
        "    'min_samples_leaf': [1, 2, 4]\n",
        "}\n",
        "\n",
        "rf = RandomForestClassifier(random_state=42)\n",
        "grid_search = GridSearchCV(rf, param_grid, cv=3, scoring='accuracy', n_jobs=-1, verbose=1)\n",
        "grid_search.fit(X_train, y_train)\n",
        "\n",
        "# Get the best model\n",
        "best_rf = grid_search.best_estimator_\n",
        "\n",
        "\n"
      ],
      "metadata": {
        "id": "9thvvlUdyBvR"
      },
      "execution_count": null,
      "outputs": []
    },
    {
      "cell_type": "markdown",
      "source": [
        "# Evaluate the model"
      ],
      "metadata": {
        "id": "tdvJEQOEyK_0"
      }
    },
    {
      "cell_type": "code",
      "source": [
        "# Make predictions\n",
        "y_pred = best_rf.predict(X_test)\n",
        "\n",
        "\n",
        "accuracy = accuracy_score(y_test, y_pred)\n",
        "report = classification_report(y_test, y_pred)\n",
        "\n",
        "print(f'Best Parameters: {grid_search.best_params_}')\n",
        "print(f'Accuracy: {accuracy:.2f}')\n",
        "print('Classification Report:\\n', report)"
      ],
      "metadata": {
        "id": "5JX-3dcxyLHd"
      },
      "execution_count": null,
      "outputs": []
    }
  ]
}