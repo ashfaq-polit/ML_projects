{
  "cells": [
    {
      "cell_type": "markdown",
      "metadata": {
        "id": "lzKMlXvbHi8i"
      },
      "source": [
        "# Reinforcement Learning in action"
      ]
    },
    {
      "cell_type": "markdown",
      "metadata": {
        "id": "qi0mylAuHi8k"
      },
      "source": [
        "## 1. Introduction"
      ]
    },
    {
      "cell_type": "markdown",
      "metadata": {
        "id": "WBb911ONHi8k"
      },
      "source": [
        "Let's assume we need to manage the energy flow of a building powered by solar panel system with a battery storage as shown in Figure 1. When solar PV generation is not sufficient to cater to the demand, the main grid supplies the mismatch at a varying (with time) price. Further the cost of $CO_2$ produced at a specific time by the grid is also considered for the cost.\n",
        "\n",
        "<img src=\"files/data/building.png\" width=550>\n",
        "<p style=\"text-align: center; font-weight:bold;\">Figure 1: Set up of building energy management system</p>\n",
        "\n",
        "Our task in this tutorail is to charge or discharge the battery accordingly so that the overall cost is minimized.\n",
        "\n",
        "This tutorial is based on the simulation engine [Pymgrid](https://github.com/Total-RD/pymgrid) by Total-RD"
      ]
    },
    {
      "cell_type": "markdown",
      "metadata": {
        "id": "AwGsxPQNHi8k"
      },
      "source": [
        "## 2. Install and imports"
      ]
    },
    {
      "cell_type": "code",
      "execution_count": 1,
      "metadata": {
        "colab": {
          "base_uri": "https://localhost:8080/"
        },
        "id": "hrAJRrQIHi8k",
        "outputId": "9bd64923-c410-4030-e8a2-cddb6803c190"
      },
      "outputs": [
        {
          "output_type": "stream",
          "name": "stdout",
          "text": [
            "Collecting git+https://github.com/Wenuka/pymgrid/\n",
            "  Cloning https://github.com/Wenuka/pymgrid/ to /tmp/pip-req-build-wjlygypz\n",
            "  Running command git clone --filter=blob:none --quiet https://github.com/Wenuka/pymgrid/ /tmp/pip-req-build-wjlygypz\n",
            "  Resolved https://github.com/Wenuka/pymgrid/ to commit 6a8091e1ee554c65bdb4bb229570aa94a3bf4a03\n",
            "  Preparing metadata (setup.py) ... \u001b[?25l\u001b[?25hdone\n",
            "Requirement already satisfied: requests in /usr/local/lib/python3.11/dist-packages (from pymgrid==0.1.0) (2.32.3)\n",
            "Requirement already satisfied: pandas in /usr/local/lib/python3.11/dist-packages (from pymgrid==0.1.0) (2.2.2)\n",
            "Requirement already satisfied: numpy in /usr/local/lib/python3.11/dist-packages (from pymgrid==0.1.0) (1.26.4)\n",
            "Requirement already satisfied: cvxpy in /usr/local/lib/python3.11/dist-packages (from pymgrid==0.1.0) (1.6.1)\n",
            "Requirement already satisfied: statsmodels in /usr/local/lib/python3.11/dist-packages (from pymgrid==0.1.0) (0.14.4)\n",
            "Requirement already satisfied: matplotlib in /usr/local/lib/python3.11/dist-packages (from pymgrid==0.1.0) (3.10.0)\n",
            "Requirement already satisfied: plotly in /usr/local/lib/python3.11/dist-packages (from pymgrid==0.1.0) (5.24.1)\n",
            "Requirement already satisfied: cufflinks in /usr/local/lib/python3.11/dist-packages (from pymgrid==0.1.0) (0.17.3)\n",
            "Requirement already satisfied: gym in /usr/local/lib/python3.11/dist-packages (from pymgrid==0.1.0) (0.25.2)\n",
            "Requirement already satisfied: six>=1.9.0 in /usr/local/lib/python3.11/dist-packages (from cufflinks->pymgrid==0.1.0) (1.17.0)\n",
            "Requirement already satisfied: colorlover>=0.2.1 in /usr/local/lib/python3.11/dist-packages (from cufflinks->pymgrid==0.1.0) (0.3.0)\n",
            "Requirement already satisfied: setuptools>=34.4.1 in /usr/local/lib/python3.11/dist-packages (from cufflinks->pymgrid==0.1.0) (75.1.0)\n",
            "Requirement already satisfied: ipython>=5.3.0 in /usr/local/lib/python3.11/dist-packages (from cufflinks->pymgrid==0.1.0) (7.34.0)\n",
            "Requirement already satisfied: ipywidgets>=7.0.0 in /usr/local/lib/python3.11/dist-packages (from cufflinks->pymgrid==0.1.0) (7.7.1)\n",
            "Requirement already satisfied: python-dateutil>=2.8.2 in /usr/local/lib/python3.11/dist-packages (from pandas->pymgrid==0.1.0) (2.8.2)\n",
            "Requirement already satisfied: pytz>=2020.1 in /usr/local/lib/python3.11/dist-packages (from pandas->pymgrid==0.1.0) (2025.1)\n",
            "Requirement already satisfied: tzdata>=2022.7 in /usr/local/lib/python3.11/dist-packages (from pandas->pymgrid==0.1.0) (2025.1)\n",
            "Requirement already satisfied: tenacity>=6.2.0 in /usr/local/lib/python3.11/dist-packages (from plotly->pymgrid==0.1.0) (9.0.0)\n",
            "Requirement already satisfied: packaging in /usr/local/lib/python3.11/dist-packages (from plotly->pymgrid==0.1.0) (24.2)\n",
            "Requirement already satisfied: osqp>=0.6.2 in /usr/local/lib/python3.11/dist-packages (from cvxpy->pymgrid==0.1.0) (0.6.7.post3)\n",
            "Requirement already satisfied: clarabel>=0.5.0 in /usr/local/lib/python3.11/dist-packages (from cvxpy->pymgrid==0.1.0) (0.10.0)\n",
            "Requirement already satisfied: scs>=3.2.4.post1 in /usr/local/lib/python3.11/dist-packages (from cvxpy->pymgrid==0.1.0) (3.2.7.post2)\n",
            "Requirement already satisfied: scipy>=1.11.0 in /usr/local/lib/python3.11/dist-packages (from cvxpy->pymgrid==0.1.0) (1.13.1)\n",
            "Requirement already satisfied: cloudpickle>=1.2.0 in /usr/local/lib/python3.11/dist-packages (from gym->pymgrid==0.1.0) (3.1.1)\n",
            "Requirement already satisfied: gym_notices>=0.0.4 in /usr/local/lib/python3.11/dist-packages (from gym->pymgrid==0.1.0) (0.0.8)\n",
            "Requirement already satisfied: contourpy>=1.0.1 in /usr/local/lib/python3.11/dist-packages (from matplotlib->pymgrid==0.1.0) (1.3.1)\n",
            "Requirement already satisfied: cycler>=0.10 in /usr/local/lib/python3.11/dist-packages (from matplotlib->pymgrid==0.1.0) (0.12.1)\n",
            "Requirement already satisfied: fonttools>=4.22.0 in /usr/local/lib/python3.11/dist-packages (from matplotlib->pymgrid==0.1.0) (4.56.0)\n",
            "Requirement already satisfied: kiwisolver>=1.3.1 in /usr/local/lib/python3.11/dist-packages (from matplotlib->pymgrid==0.1.0) (1.4.8)\n",
            "Requirement already satisfied: pillow>=8 in /usr/local/lib/python3.11/dist-packages (from matplotlib->pymgrid==0.1.0) (11.1.0)\n",
            "Requirement already satisfied: pyparsing>=2.3.1 in /usr/local/lib/python3.11/dist-packages (from matplotlib->pymgrid==0.1.0) (3.2.1)\n",
            "Requirement already satisfied: charset-normalizer<4,>=2 in /usr/local/lib/python3.11/dist-packages (from requests->pymgrid==0.1.0) (3.4.1)\n",
            "Requirement already satisfied: idna<4,>=2.5 in /usr/local/lib/python3.11/dist-packages (from requests->pymgrid==0.1.0) (3.10)\n",
            "Requirement already satisfied: urllib3<3,>=1.21.1 in /usr/local/lib/python3.11/dist-packages (from requests->pymgrid==0.1.0) (2.3.0)\n",
            "Requirement already satisfied: certifi>=2017.4.17 in /usr/local/lib/python3.11/dist-packages (from requests->pymgrid==0.1.0) (2025.1.31)\n",
            "Requirement already satisfied: patsy>=0.5.6 in /usr/local/lib/python3.11/dist-packages (from statsmodels->pymgrid==0.1.0) (1.0.1)\n",
            "Collecting jedi>=0.16 (from ipython>=5.3.0->cufflinks->pymgrid==0.1.0)\n",
            "  Downloading jedi-0.19.2-py2.py3-none-any.whl.metadata (22 kB)\n",
            "Requirement already satisfied: decorator in /usr/local/lib/python3.11/dist-packages (from ipython>=5.3.0->cufflinks->pymgrid==0.1.0) (4.4.2)\n",
            "Requirement already satisfied: pickleshare in /usr/local/lib/python3.11/dist-packages (from ipython>=5.3.0->cufflinks->pymgrid==0.1.0) (0.7.5)\n",
            "Requirement already satisfied: traitlets>=4.2 in /usr/local/lib/python3.11/dist-packages (from ipython>=5.3.0->cufflinks->pymgrid==0.1.0) (5.7.1)\n",
            "Requirement already satisfied: prompt-toolkit!=3.0.0,!=3.0.1,<3.1.0,>=2.0.0 in /usr/local/lib/python3.11/dist-packages (from ipython>=5.3.0->cufflinks->pymgrid==0.1.0) (3.0.50)\n",
            "Requirement already satisfied: pygments in /usr/local/lib/python3.11/dist-packages (from ipython>=5.3.0->cufflinks->pymgrid==0.1.0) (2.18.0)\n",
            "Requirement already satisfied: backcall in /usr/local/lib/python3.11/dist-packages (from ipython>=5.3.0->cufflinks->pymgrid==0.1.0) (0.2.0)\n",
            "Requirement already satisfied: matplotlib-inline in /usr/local/lib/python3.11/dist-packages (from ipython>=5.3.0->cufflinks->pymgrid==0.1.0) (0.1.7)\n",
            "Requirement already satisfied: pexpect>4.3 in /usr/local/lib/python3.11/dist-packages (from ipython>=5.3.0->cufflinks->pymgrid==0.1.0) (4.9.0)\n",
            "Requirement already satisfied: ipykernel>=4.5.1 in /usr/local/lib/python3.11/dist-packages (from ipywidgets>=7.0.0->cufflinks->pymgrid==0.1.0) (6.17.1)\n",
            "Requirement already satisfied: ipython-genutils~=0.2.0 in /usr/local/lib/python3.11/dist-packages (from ipywidgets>=7.0.0->cufflinks->pymgrid==0.1.0) (0.2.0)\n",
            "Requirement already satisfied: widgetsnbextension~=3.6.0 in /usr/local/lib/python3.11/dist-packages (from ipywidgets>=7.0.0->cufflinks->pymgrid==0.1.0) (3.6.10)\n",
            "Requirement already satisfied: jupyterlab-widgets>=1.0.0 in /usr/local/lib/python3.11/dist-packages (from ipywidgets>=7.0.0->cufflinks->pymgrid==0.1.0) (3.0.13)\n",
            "Requirement already satisfied: qdldl in /usr/local/lib/python3.11/dist-packages (from osqp>=0.6.2->cvxpy->pymgrid==0.1.0) (0.1.7.post5)\n",
            "Requirement already satisfied: debugpy>=1.0 in /usr/local/lib/python3.11/dist-packages (from ipykernel>=4.5.1->ipywidgets>=7.0.0->cufflinks->pymgrid==0.1.0) (1.8.0)\n",
            "Requirement already satisfied: jupyter-client>=6.1.12 in /usr/local/lib/python3.11/dist-packages (from ipykernel>=4.5.1->ipywidgets>=7.0.0->cufflinks->pymgrid==0.1.0) (6.1.12)\n",
            "Requirement already satisfied: nest-asyncio in /usr/local/lib/python3.11/dist-packages (from ipykernel>=4.5.1->ipywidgets>=7.0.0->cufflinks->pymgrid==0.1.0) (1.6.0)\n",
            "Requirement already satisfied: psutil in /usr/local/lib/python3.11/dist-packages (from ipykernel>=4.5.1->ipywidgets>=7.0.0->cufflinks->pymgrid==0.1.0) (5.9.5)\n",
            "Requirement already satisfied: pyzmq>=17 in /usr/local/lib/python3.11/dist-packages (from ipykernel>=4.5.1->ipywidgets>=7.0.0->cufflinks->pymgrid==0.1.0) (24.0.1)\n",
            "Requirement already satisfied: tornado>=6.1 in /usr/local/lib/python3.11/dist-packages (from ipykernel>=4.5.1->ipywidgets>=7.0.0->cufflinks->pymgrid==0.1.0) (6.4.2)\n",
            "Requirement already satisfied: parso<0.9.0,>=0.8.4 in /usr/local/lib/python3.11/dist-packages (from jedi>=0.16->ipython>=5.3.0->cufflinks->pymgrid==0.1.0) (0.8.4)\n",
            "Requirement already satisfied: ptyprocess>=0.5 in /usr/local/lib/python3.11/dist-packages (from pexpect>4.3->ipython>=5.3.0->cufflinks->pymgrid==0.1.0) (0.7.0)\n",
            "Requirement already satisfied: wcwidth in /usr/local/lib/python3.11/dist-packages (from prompt-toolkit!=3.0.0,!=3.0.1,<3.1.0,>=2.0.0->ipython>=5.3.0->cufflinks->pymgrid==0.1.0) (0.2.13)\n",
            "Requirement already satisfied: notebook>=4.4.1 in /usr/local/lib/python3.11/dist-packages (from widgetsnbextension~=3.6.0->ipywidgets>=7.0.0->cufflinks->pymgrid==0.1.0) (6.5.5)\n",
            "Requirement already satisfied: jupyter-core>=4.6.0 in /usr/local/lib/python3.11/dist-packages (from jupyter-client>=6.1.12->ipykernel>=4.5.1->ipywidgets>=7.0.0->cufflinks->pymgrid==0.1.0) (5.7.2)\n",
            "Requirement already satisfied: jinja2 in /usr/local/lib/python3.11/dist-packages (from notebook>=4.4.1->widgetsnbextension~=3.6.0->ipywidgets>=7.0.0->cufflinks->pymgrid==0.1.0) (3.1.5)\n",
            "Requirement already satisfied: argon2-cffi in /usr/local/lib/python3.11/dist-packages (from notebook>=4.4.1->widgetsnbextension~=3.6.0->ipywidgets>=7.0.0->cufflinks->pymgrid==0.1.0) (23.1.0)\n",
            "Requirement already satisfied: nbformat in /usr/local/lib/python3.11/dist-packages (from notebook>=4.4.1->widgetsnbextension~=3.6.0->ipywidgets>=7.0.0->cufflinks->pymgrid==0.1.0) (5.10.4)\n",
            "Requirement already satisfied: nbconvert>=5 in /usr/local/lib/python3.11/dist-packages (from notebook>=4.4.1->widgetsnbextension~=3.6.0->ipywidgets>=7.0.0->cufflinks->pymgrid==0.1.0) (7.16.6)\n",
            "Requirement already satisfied: Send2Trash>=1.8.0 in /usr/local/lib/python3.11/dist-packages (from notebook>=4.4.1->widgetsnbextension~=3.6.0->ipywidgets>=7.0.0->cufflinks->pymgrid==0.1.0) (1.8.3)\n",
            "Requirement already satisfied: terminado>=0.8.3 in /usr/local/lib/python3.11/dist-packages (from notebook>=4.4.1->widgetsnbextension~=3.6.0->ipywidgets>=7.0.0->cufflinks->pymgrid==0.1.0) (0.18.1)\n",
            "Requirement already satisfied: prometheus-client in /usr/local/lib/python3.11/dist-packages (from notebook>=4.4.1->widgetsnbextension~=3.6.0->ipywidgets>=7.0.0->cufflinks->pymgrid==0.1.0) (0.21.1)\n",
            "Requirement already satisfied: nbclassic>=0.4.7 in /usr/local/lib/python3.11/dist-packages (from notebook>=4.4.1->widgetsnbextension~=3.6.0->ipywidgets>=7.0.0->cufflinks->pymgrid==0.1.0) (1.2.0)\n",
            "Requirement already satisfied: platformdirs>=2.5 in /usr/local/lib/python3.11/dist-packages (from jupyter-core>=4.6.0->jupyter-client>=6.1.12->ipykernel>=4.5.1->ipywidgets>=7.0.0->cufflinks->pymgrid==0.1.0) (4.3.6)\n",
            "Requirement already satisfied: notebook-shim>=0.2.3 in /usr/local/lib/python3.11/dist-packages (from nbclassic>=0.4.7->notebook>=4.4.1->widgetsnbextension~=3.6.0->ipywidgets>=7.0.0->cufflinks->pymgrid==0.1.0) (0.2.4)\n",
            "Requirement already satisfied: beautifulsoup4 in /usr/local/lib/python3.11/dist-packages (from nbconvert>=5->notebook>=4.4.1->widgetsnbextension~=3.6.0->ipywidgets>=7.0.0->cufflinks->pymgrid==0.1.0) (4.13.3)\n",
            "Requirement already satisfied: bleach!=5.0.0 in /usr/local/lib/python3.11/dist-packages (from bleach[css]!=5.0.0->nbconvert>=5->notebook>=4.4.1->widgetsnbextension~=3.6.0->ipywidgets>=7.0.0->cufflinks->pymgrid==0.1.0) (6.2.0)\n",
            "Requirement already satisfied: defusedxml in /usr/local/lib/python3.11/dist-packages (from nbconvert>=5->notebook>=4.4.1->widgetsnbextension~=3.6.0->ipywidgets>=7.0.0->cufflinks->pymgrid==0.1.0) (0.7.1)\n",
            "Requirement already satisfied: jupyterlab-pygments in /usr/local/lib/python3.11/dist-packages (from nbconvert>=5->notebook>=4.4.1->widgetsnbextension~=3.6.0->ipywidgets>=7.0.0->cufflinks->pymgrid==0.1.0) (0.3.0)\n",
            "Requirement already satisfied: markupsafe>=2.0 in /usr/local/lib/python3.11/dist-packages (from nbconvert>=5->notebook>=4.4.1->widgetsnbextension~=3.6.0->ipywidgets>=7.0.0->cufflinks->pymgrid==0.1.0) (3.0.2)\n",
            "Requirement already satisfied: mistune<4,>=2.0.3 in /usr/local/lib/python3.11/dist-packages (from nbconvert>=5->notebook>=4.4.1->widgetsnbextension~=3.6.0->ipywidgets>=7.0.0->cufflinks->pymgrid==0.1.0) (3.1.2)\n",
            "Requirement already satisfied: nbclient>=0.5.0 in /usr/local/lib/python3.11/dist-packages (from nbconvert>=5->notebook>=4.4.1->widgetsnbextension~=3.6.0->ipywidgets>=7.0.0->cufflinks->pymgrid==0.1.0) (0.10.2)\n",
            "Requirement already satisfied: pandocfilters>=1.4.1 in /usr/local/lib/python3.11/dist-packages (from nbconvert>=5->notebook>=4.4.1->widgetsnbextension~=3.6.0->ipywidgets>=7.0.0->cufflinks->pymgrid==0.1.0) (1.5.1)\n",
            "Requirement already satisfied: fastjsonschema>=2.15 in /usr/local/lib/python3.11/dist-packages (from nbformat->notebook>=4.4.1->widgetsnbextension~=3.6.0->ipywidgets>=7.0.0->cufflinks->pymgrid==0.1.0) (2.21.1)\n",
            "Requirement already satisfied: jsonschema>=2.6 in /usr/local/lib/python3.11/dist-packages (from nbformat->notebook>=4.4.1->widgetsnbextension~=3.6.0->ipywidgets>=7.0.0->cufflinks->pymgrid==0.1.0) (4.23.0)\n",
            "Requirement already satisfied: argon2-cffi-bindings in /usr/local/lib/python3.11/dist-packages (from argon2-cffi->notebook>=4.4.1->widgetsnbextension~=3.6.0->ipywidgets>=7.0.0->cufflinks->pymgrid==0.1.0) (21.2.0)\n",
            "Requirement already satisfied: webencodings in /usr/local/lib/python3.11/dist-packages (from bleach!=5.0.0->bleach[css]!=5.0.0->nbconvert>=5->notebook>=4.4.1->widgetsnbextension~=3.6.0->ipywidgets>=7.0.0->cufflinks->pymgrid==0.1.0) (0.5.1)\n",
            "Requirement already satisfied: tinycss2<1.5,>=1.1.0 in /usr/local/lib/python3.11/dist-packages (from bleach[css]!=5.0.0->nbconvert>=5->notebook>=4.4.1->widgetsnbextension~=3.6.0->ipywidgets>=7.0.0->cufflinks->pymgrid==0.1.0) (1.4.0)\n",
            "Requirement already satisfied: attrs>=22.2.0 in /usr/local/lib/python3.11/dist-packages (from jsonschema>=2.6->nbformat->notebook>=4.4.1->widgetsnbextension~=3.6.0->ipywidgets>=7.0.0->cufflinks->pymgrid==0.1.0) (25.1.0)\n",
            "Requirement already satisfied: jsonschema-specifications>=2023.03.6 in /usr/local/lib/python3.11/dist-packages (from jsonschema>=2.6->nbformat->notebook>=4.4.1->widgetsnbextension~=3.6.0->ipywidgets>=7.0.0->cufflinks->pymgrid==0.1.0) (2024.10.1)\n",
            "Requirement already satisfied: referencing>=0.28.4 in /usr/local/lib/python3.11/dist-packages (from jsonschema>=2.6->nbformat->notebook>=4.4.1->widgetsnbextension~=3.6.0->ipywidgets>=7.0.0->cufflinks->pymgrid==0.1.0) (0.36.2)\n",
            "Requirement already satisfied: rpds-py>=0.7.1 in /usr/local/lib/python3.11/dist-packages (from jsonschema>=2.6->nbformat->notebook>=4.4.1->widgetsnbextension~=3.6.0->ipywidgets>=7.0.0->cufflinks->pymgrid==0.1.0) (0.23.0)\n",
            "Requirement already satisfied: jupyter-server<3,>=1.8 in /usr/local/lib/python3.11/dist-packages (from notebook-shim>=0.2.3->nbclassic>=0.4.7->notebook>=4.4.1->widgetsnbextension~=3.6.0->ipywidgets>=7.0.0->cufflinks->pymgrid==0.1.0) (1.24.0)\n",
            "Requirement already satisfied: cffi>=1.0.1 in /usr/local/lib/python3.11/dist-packages (from argon2-cffi-bindings->argon2-cffi->notebook>=4.4.1->widgetsnbextension~=3.6.0->ipywidgets>=7.0.0->cufflinks->pymgrid==0.1.0) (1.17.1)\n",
            "Requirement already satisfied: soupsieve>1.2 in /usr/local/lib/python3.11/dist-packages (from beautifulsoup4->nbconvert>=5->notebook>=4.4.1->widgetsnbextension~=3.6.0->ipywidgets>=7.0.0->cufflinks->pymgrid==0.1.0) (2.6)\n",
            "Requirement already satisfied: typing-extensions>=4.0.0 in /usr/local/lib/python3.11/dist-packages (from beautifulsoup4->nbconvert>=5->notebook>=4.4.1->widgetsnbextension~=3.6.0->ipywidgets>=7.0.0->cufflinks->pymgrid==0.1.0) (4.12.2)\n",
            "Requirement already satisfied: pycparser in /usr/local/lib/python3.11/dist-packages (from cffi>=1.0.1->argon2-cffi-bindings->argon2-cffi->notebook>=4.4.1->widgetsnbextension~=3.6.0->ipywidgets>=7.0.0->cufflinks->pymgrid==0.1.0) (2.22)\n",
            "Requirement already satisfied: anyio<4,>=3.1.0 in /usr/local/lib/python3.11/dist-packages (from jupyter-server<3,>=1.8->notebook-shim>=0.2.3->nbclassic>=0.4.7->notebook>=4.4.1->widgetsnbextension~=3.6.0->ipywidgets>=7.0.0->cufflinks->pymgrid==0.1.0) (3.7.1)\n",
            "Requirement already satisfied: websocket-client in /usr/local/lib/python3.11/dist-packages (from jupyter-server<3,>=1.8->notebook-shim>=0.2.3->nbclassic>=0.4.7->notebook>=4.4.1->widgetsnbextension~=3.6.0->ipywidgets>=7.0.0->cufflinks->pymgrid==0.1.0) (1.8.0)\n",
            "Requirement already satisfied: sniffio>=1.1 in /usr/local/lib/python3.11/dist-packages (from anyio<4,>=3.1.0->jupyter-server<3,>=1.8->notebook-shim>=0.2.3->nbclassic>=0.4.7->notebook>=4.4.1->widgetsnbextension~=3.6.0->ipywidgets>=7.0.0->cufflinks->pymgrid==0.1.0) (1.3.1)\n",
            "Downloading jedi-0.19.2-py2.py3-none-any.whl (1.6 MB)\n",
            "\u001b[2K   \u001b[90m━━━━━━━━━━━━━━━━━━━━━━━━━━━━━━━━━━━━━━━━\u001b[0m \u001b[32m1.6/1.6 MB\u001b[0m \u001b[31m19.8 MB/s\u001b[0m eta \u001b[36m0:00:00\u001b[0m\n",
            "\u001b[?25hBuilding wheels for collected packages: pymgrid\n",
            "  Building wheel for pymgrid (setup.py) ... \u001b[?25l\u001b[?25hdone\n",
            "  Created wheel for pymgrid: filename=pymgrid-0.1.0-py3-none-any.whl size=3424050 sha256=00e772321cb5f0d088711e02009320a8a7ff388d0cae8f3f1d1fdf507f4fe917\n",
            "  Stored in directory: /tmp/pip-ephem-wheel-cache-dubkwds2/wheels/cd/b4/15/71aa9cbda578c3c22dfcbc0fb165c27772f2099892ca060bd1\n",
            "Successfully built pymgrid\n",
            "Installing collected packages: jedi, pymgrid\n",
            "Successfully installed jedi-0.19.2 pymgrid-0.1.0\n"
          ]
        }
      ],
      "source": [
        "# first we will download the (custom) pymgrid library\n",
        "!pip install git+https://github.com/Wenuka/pymgrid/"
      ]
    },
    {
      "cell_type": "code",
      "execution_count": 3,
      "metadata": {
        "id": "PRAwGzz2Hi8l"
      },
      "outputs": [],
      "source": [
        "import sys\n",
        "from pymgrid import MicrogridGenerator as mg\n",
        "import matplotlib.pyplot as plt\n",
        "import numpy as np\n",
        "import os\n",
        "import time\n",
        "\n",
        "from helper_functions import *"
      ]
    },
    {
      "cell_type": "markdown",
      "metadata": {
        "id": "_snGmrSyHi8l"
      },
      "source": [
        "## 3. Generate Microgrids (a.k.a Building+PV+Battery+grid System)\n",
        "\n",
        "In this specific case, the microgrid is defined as the building (energy demand) Solar panel (PV), inhouse battery pack which is also connected to the grid"
      ]
    },
    {
      "cell_type": "code",
      "source": [
        "from google.colab import files"
      ],
      "metadata": {
        "id": "QY4kARmPJKfE"
      },
      "execution_count": 5,
      "outputs": []
    },
    {
      "cell_type": "code",
      "source": [
        "uploaded = files.upload()\n"
      ],
      "metadata": {
        "colab": {
          "base_uri": "https://localhost:8080/",
          "height": 74
        },
        "id": "8oDh0LdnJfQN",
        "outputId": "6e0b4bec-0a15-46cd-ef1e-b5caff42f2f1"
      },
      "execution_count": 6,
      "outputs": [
        {
          "output_type": "display_data",
          "data": {
            "text/plain": [
              "<IPython.core.display.HTML object>"
            ],
            "text/html": [
              "\n",
              "     <input type=\"file\" id=\"files-9680b885-6c15-459b-b776-8f1a05179e32\" name=\"files[]\" multiple disabled\n",
              "        style=\"border:none\" />\n",
              "     <output id=\"result-9680b885-6c15-459b-b776-8f1a05179e32\">\n",
              "      Upload widget is only available when the cell has been executed in the\n",
              "      current browser session. Please rerun this cell to enable.\n",
              "      </output>\n",
              "      <script>// Copyright 2017 Google LLC\n",
              "//\n",
              "// Licensed under the Apache License, Version 2.0 (the \"License\");\n",
              "// you may not use this file except in compliance with the License.\n",
              "// You may obtain a copy of the License at\n",
              "//\n",
              "//      http://www.apache.org/licenses/LICENSE-2.0\n",
              "//\n",
              "// Unless required by applicable law or agreed to in writing, software\n",
              "// distributed under the License is distributed on an \"AS IS\" BASIS,\n",
              "// WITHOUT WARRANTIES OR CONDITIONS OF ANY KIND, either express or implied.\n",
              "// See the License for the specific language governing permissions and\n",
              "// limitations under the License.\n",
              "\n",
              "/**\n",
              " * @fileoverview Helpers for google.colab Python module.\n",
              " */\n",
              "(function(scope) {\n",
              "function span(text, styleAttributes = {}) {\n",
              "  const element = document.createElement('span');\n",
              "  element.textContent = text;\n",
              "  for (const key of Object.keys(styleAttributes)) {\n",
              "    element.style[key] = styleAttributes[key];\n",
              "  }\n",
              "  return element;\n",
              "}\n",
              "\n",
              "// Max number of bytes which will be uploaded at a time.\n",
              "const MAX_PAYLOAD_SIZE = 100 * 1024;\n",
              "\n",
              "function _uploadFiles(inputId, outputId) {\n",
              "  const steps = uploadFilesStep(inputId, outputId);\n",
              "  const outputElement = document.getElementById(outputId);\n",
              "  // Cache steps on the outputElement to make it available for the next call\n",
              "  // to uploadFilesContinue from Python.\n",
              "  outputElement.steps = steps;\n",
              "\n",
              "  return _uploadFilesContinue(outputId);\n",
              "}\n",
              "\n",
              "// This is roughly an async generator (not supported in the browser yet),\n",
              "// where there are multiple asynchronous steps and the Python side is going\n",
              "// to poll for completion of each step.\n",
              "// This uses a Promise to block the python side on completion of each step,\n",
              "// then passes the result of the previous step as the input to the next step.\n",
              "function _uploadFilesContinue(outputId) {\n",
              "  const outputElement = document.getElementById(outputId);\n",
              "  const steps = outputElement.steps;\n",
              "\n",
              "  const next = steps.next(outputElement.lastPromiseValue);\n",
              "  return Promise.resolve(next.value.promise).then((value) => {\n",
              "    // Cache the last promise value to make it available to the next\n",
              "    // step of the generator.\n",
              "    outputElement.lastPromiseValue = value;\n",
              "    return next.value.response;\n",
              "  });\n",
              "}\n",
              "\n",
              "/**\n",
              " * Generator function which is called between each async step of the upload\n",
              " * process.\n",
              " * @param {string} inputId Element ID of the input file picker element.\n",
              " * @param {string} outputId Element ID of the output display.\n",
              " * @return {!Iterable<!Object>} Iterable of next steps.\n",
              " */\n",
              "function* uploadFilesStep(inputId, outputId) {\n",
              "  const inputElement = document.getElementById(inputId);\n",
              "  inputElement.disabled = false;\n",
              "\n",
              "  const outputElement = document.getElementById(outputId);\n",
              "  outputElement.innerHTML = '';\n",
              "\n",
              "  const pickedPromise = new Promise((resolve) => {\n",
              "    inputElement.addEventListener('change', (e) => {\n",
              "      resolve(e.target.files);\n",
              "    });\n",
              "  });\n",
              "\n",
              "  const cancel = document.createElement('button');\n",
              "  inputElement.parentElement.appendChild(cancel);\n",
              "  cancel.textContent = 'Cancel upload';\n",
              "  const cancelPromise = new Promise((resolve) => {\n",
              "    cancel.onclick = () => {\n",
              "      resolve(null);\n",
              "    };\n",
              "  });\n",
              "\n",
              "  // Wait for the user to pick the files.\n",
              "  const files = yield {\n",
              "    promise: Promise.race([pickedPromise, cancelPromise]),\n",
              "    response: {\n",
              "      action: 'starting',\n",
              "    }\n",
              "  };\n",
              "\n",
              "  cancel.remove();\n",
              "\n",
              "  // Disable the input element since further picks are not allowed.\n",
              "  inputElement.disabled = true;\n",
              "\n",
              "  if (!files) {\n",
              "    return {\n",
              "      response: {\n",
              "        action: 'complete',\n",
              "      }\n",
              "    };\n",
              "  }\n",
              "\n",
              "  for (const file of files) {\n",
              "    const li = document.createElement('li');\n",
              "    li.append(span(file.name, {fontWeight: 'bold'}));\n",
              "    li.append(span(\n",
              "        `(${file.type || 'n/a'}) - ${file.size} bytes, ` +\n",
              "        `last modified: ${\n",
              "            file.lastModifiedDate ? file.lastModifiedDate.toLocaleDateString() :\n",
              "                                    'n/a'} - `));\n",
              "    const percent = span('0% done');\n",
              "    li.appendChild(percent);\n",
              "\n",
              "    outputElement.appendChild(li);\n",
              "\n",
              "    const fileDataPromise = new Promise((resolve) => {\n",
              "      const reader = new FileReader();\n",
              "      reader.onload = (e) => {\n",
              "        resolve(e.target.result);\n",
              "      };\n",
              "      reader.readAsArrayBuffer(file);\n",
              "    });\n",
              "    // Wait for the data to be ready.\n",
              "    let fileData = yield {\n",
              "      promise: fileDataPromise,\n",
              "      response: {\n",
              "        action: 'continue',\n",
              "      }\n",
              "    };\n",
              "\n",
              "    // Use a chunked sending to avoid message size limits. See b/62115660.\n",
              "    let position = 0;\n",
              "    do {\n",
              "      const length = Math.min(fileData.byteLength - position, MAX_PAYLOAD_SIZE);\n",
              "      const chunk = new Uint8Array(fileData, position, length);\n",
              "      position += length;\n",
              "\n",
              "      const base64 = btoa(String.fromCharCode.apply(null, chunk));\n",
              "      yield {\n",
              "        response: {\n",
              "          action: 'append',\n",
              "          file: file.name,\n",
              "          data: base64,\n",
              "        },\n",
              "      };\n",
              "\n",
              "      let percentDone = fileData.byteLength === 0 ?\n",
              "          100 :\n",
              "          Math.round((position / fileData.byteLength) * 100);\n",
              "      percent.textContent = `${percentDone}% done`;\n",
              "\n",
              "    } while (position < fileData.byteLength);\n",
              "  }\n",
              "\n",
              "  // All done.\n",
              "  yield {\n",
              "    response: {\n",
              "      action: 'complete',\n",
              "    }\n",
              "  };\n",
              "}\n",
              "\n",
              "scope.google = scope.google || {};\n",
              "scope.google.colab = scope.google.colab || {};\n",
              "scope.google.colab._files = {\n",
              "  _uploadFiles,\n",
              "  _uploadFilesContinue,\n",
              "};\n",
              "})(self);\n",
              "</script> "
            ]
          },
          "metadata": {}
        },
        {
          "output_type": "stream",
          "name": "stdout",
          "text": [
            "Saving RL_for_energy_tutorial.zip to RL_for_energy_tutorial.zip\n"
          ]
        }
      ]
    },
    {
      "cell_type": "code",
      "source": [
        "import zipfile\n",
        "import os\n",
        "\n",
        "zip_path = \"/content/RL_for_energy_tutorial.zip\"  # Adjust if needed\n",
        "extract_path = \"/content/RL_for_energy_tutorial\"\n",
        "\n",
        "with zipfile.ZipFile(zip_path, \"r\") as zip_ref:\n",
        "    zip_ref.extractall(extract_path)\n",
        "\n",
        "os.remove(zip_path)  # Optional: Delete ZIP file after extraction\n"
      ],
      "metadata": {
        "id": "GM7eaWYgJrFH"
      },
      "execution_count": 7,
      "outputs": []
    },
    {
      "cell_type": "code",
      "execution_count": 11,
      "metadata": {
        "scrolled": true,
        "id": "rTLfiztRHi8l"
      },
      "outputs": [],
      "source": [
        "# First we create the environment and the microgrid\n",
        "env = mg.MicrogridGenerator(nb_microgrid=1, path=\"RL_for_energy_tutorial/RL_for_energy_tutorial/data/pymgrid_data\")  # we can use a custom file to simulate the load and the PV\n",
        "env.generate_microgrid(verbose=False)\n",
        "mg0 = env.microgrids[0]"
      ]
    },
    {
      "cell_type": "code",
      "execution_count": 12,
      "metadata": {
        "scrolled": true,
        "colab": {
          "base_uri": "https://localhost:8080/"
        },
        "id": "B1qBmtZSHi8l",
        "outputId": "e7fdbd81-7556-4366-af46-58f4221d7e4f"
      },
      "outputs": [
        {
          "output_type": "execute_result",
          "data": {
            "text/plain": [
              "{'PV': 1, 'battery': 1, 'genset': 0, 'grid': 1}"
            ]
          },
          "metadata": {},
          "execution_count": 12
        }
      ],
      "source": [
        "mg0.architecture  # architecture of the microgrid\n",
        "# mg0.parameters  # parameters of the microgrid"
      ]
    },
    {
      "cell_type": "markdown",
      "metadata": {
        "id": "JqkB3C-zHi8m"
      },
      "source": [
        "NOTE: In this tutorial, we do not consider a generator (genset). Possible ways to integrate generation will be taken into the discussion at the end of the tutorial"
      ]
    },
    {
      "cell_type": "markdown",
      "metadata": {
        "id": "GzNbFT0dHi8m"
      },
      "source": [
        "## 4. Defining the Reward"
      ]
    },
    {
      "cell_type": "markdown",
      "metadata": {
        "id": "xbvlH9ADHi8m"
      },
      "source": [
        "RL always works with reward. Therefore, we need to define the reward at the begining. Then we can write algorithms so that our agent can learn to maximize the reward.\n",
        "\n",
        "In this, we are trying to reduce (Minimize) the overall cost of the building. Therefore we can easily define the reward as the **minus cost**. So agent maximizing the reward means minimizing the cost.\n",
        "\n",
        "The total cost consists of the cost of eleectricity and the penalty for $CO_2$ produced by the grid."
      ]
    },
    {
      "cell_type": "markdown",
      "metadata": {
        "id": "pwMk0h1-Hi8m"
      },
      "source": [
        "## 5. Q table"
      ]
    },
    {
      "cell_type": "markdown",
      "metadata": {
        "id": "2Jd3qC6GHi8n"
      },
      "source": [
        "The state of the system explains the present conditions of the system.\n",
        "\n",
        "As we already learned, in Q learning, we try to guess the expected discounted future reward for each **State** for each **action**.\n",
        "\n",
        "Therefore, we maintain a Q-table to store these values. By doing this, we maintain rows for each State and columns for each Action (see Figure 2). So each value inside the Q-table is the Q-value (expected discounted future reward) for a given state and for a given action\n",
        "\n",
        "<img src=\"files/data/qtable.png\" width=550>\n",
        "<p style=\"text-align: center; font-weight:bold;\">Figure 2: Q table consisting of actions and states</p>"
      ]
    },
    {
      "cell_type": "markdown",
      "metadata": {
        "id": "O2hKylvmHi8n"
      },
      "source": [
        "## 6. Defining the State"
      ]
    },
    {
      "cell_type": "markdown",
      "metadata": {
        "id": "fVrV79p2Hi8n"
      },
      "source": [
        "Before starting the learning process, we need to define the states and the actions.\n",
        "\n",
        "Let us define the states first. To help the process, we will first plot a few graphs for the next 24 time steps (hours).\n",
        "\n",
        "(extra note: forecast function forecast next 24 steps by default you can change it to N steps by **mg0.set_horizon(N)** )"
      ]
    },
    {
      "cell_type": "code",
      "execution_count": 13,
      "metadata": {
        "colab": {
          "base_uri": "https://localhost:8080/",
          "height": 448
        },
        "id": "7QJjp90cHi8n",
        "outputId": "bc6785b8-e0f0-4815-cdcd-b405feec1d82"
      },
      "outputs": [
        {
          "output_type": "execute_result",
          "data": {
            "text/plain": [
              "<matplotlib.legend.Legend at 0x7cc3378d3a90>"
            ]
          },
          "metadata": {},
          "execution_count": 13
        },
        {
          "output_type": "display_data",
          "data": {
            "text/plain": [
              "<Figure size 640x480 with 1 Axes>"
            ],
            "image/png": "[encoded data removed]"
          },
          "metadata": {}
        }
      ],
      "source": [
        "plt.plot(mg0.forecast_pv(), label=\"PV\")\n",
        "plt.plot(mg0.forecast_load(), label=\"load\")\n",
        "plt.legend()\n",
        "# as we can see PV and Load is varying with the  time"
      ]
    },
    {
      "cell_type": "code",
      "execution_count": 14,
      "metadata": {
        "colab": {
          "base_uri": "https://localhost:8080/",
          "height": 448
        },
        "id": "cExsbMu_Hi8n",
        "outputId": "73636bef-5d4c-41ed-fe24-e67de5870698"
      },
      "outputs": [
        {
          "output_type": "execute_result",
          "data": {
            "text/plain": [
              "[<matplotlib.lines.Line2D at 0x7cc3352f4090>]"
            ]
          },
          "metadata": {},
          "execution_count": 14
        },
        {
          "output_type": "display_data",
          "data": {
            "text/plain": [
              "<Figure size 640x480 with 1 Axes>"
            ],
            "image/png": "[encoded data removed]"
          },
          "metadata": {}
        }
      ],
      "source": [
        "plt.plot(mg0.forecast_grid_status())\n",
        "# Here we observe that the microgrid is always connected to the utility grid (no change)"
      ]
    },
    {
      "cell_type": "markdown",
      "metadata": {
        "id": "M8zfqhyDHi8n"
      },
      "source": [
        "As we know, the environment in this is defined by four factors (Figure 3), namely,\n",
        "* Load (kW)\n",
        "* PV (kW)\n",
        "* Battery (charge percentage)\n",
        "* Grid connectivity (Grid price is not provided by the simulation environment)\n",
        "\n",
        "<img src=\"files/data/environment.png\" width=500>\n",
        "<p style=\"text-align: center; font-weight:bold;\">Figure 3: Energy interactions to state definition</p>\n",
        "\n",
        "So, we can simply describe state by **(load, PV, Battery Percentage, Grid connectivity)** where Battery Percentage is (battery charge level \\state of charge of battery)\n",
        "\n",
        "1. Do we need all these variables to define the state?\n",
        "\n",
        "2. What variables/factors can you eliminate?\n",
        "\n",
        "3. Given our problem statement, what variables can you combine?\n",
        "\n",
        "**Discuss!**"
      ]
    },
    {
      "cell_type": "markdown",
      "metadata": {
        "id": "DzWqgRP9Hi8n"
      },
      "source": [
        "--answer--"
      ]
    },
    {
      "cell_type": "markdown",
      "metadata": {
        "id": "1D7aRSAZHi8o"
      },
      "source": [
        "Another problem we face here is how to create Q-table when the variables in the state definition are continuous.\n",
        "\n",
        "For this, we **discretize the variable**. For example in this tutorial, we round the kW to the nearest decimal and battery percentage to the nearest 0.1"
      ]
    },
    {
      "cell_type": "code",
      "execution_count": 15,
      "metadata": {
        "colab": {
          "base_uri": "https://localhost:8080/",
          "height": 35
        },
        "id": "rwOVewlzHi8o",
        "outputId": "a7bb4a78-8f58-403f-eca6-0e13ebe144a2"
      },
      "outputs": [
        {
          "output_type": "execute_result",
          "data": {
            "text/plain": [
              "'max: 5.32, min : -1.71 interval: 1'"
            ],
            "application/vnd.google.colaboratory.intrinsic+json": {
              "type": "string"
            }
          },
          "metadata": {},
          "execution_count": 15
        }
      ],
      "source": [
        "mg0.set_horizon(24*365)\n",
        "\n",
        "overall_first_state_variable = mg0.forecast_load()-mg0.forecast_pv()  # ???\n",
        "\n",
        "overal_min = min(overall_first_state_variable)\n",
        "overal_max = max(overall_first_state_variable)\n",
        "discretize_interval = 1\n",
        "net_load_params = (overal_min, overal_max, discretize_interval)\n",
        "mg0.set_horizon(24)\n",
        "f\"max: {overal_max:.2f}, min : {overal_min:.2f} interval: {discretize_interval}\""
      ]
    },
    {
      "cell_type": "code",
      "execution_count": 16,
      "metadata": {
        "id": "Xz9pGuffHi8o"
      },
      "outputs": [],
      "source": [
        "# For a given instences, you can see the environment and other values like this\n",
        "current_load = mg0.load\n",
        "current_pv = mg0.pv\n",
        "battery_capacity = mg0.battery.capacity\n",
        "battery_state_of_charge = mg0.battery.soc\n",
        "# current_cost = mg0.battery.get_cost() ## can be used only after running atleast one step of the microgrid (eg. mg.run(action) )"
      ]
    },
    {
      "cell_type": "markdown",
      "metadata": {
        "id": "0wUXRp1pHi8o"
      },
      "source": [
        "## 7. Designing the Actions"
      ]
    },
    {
      "cell_type": "markdown",
      "metadata": {
        "id": "m4FcmkaqHi8o"
      },
      "source": [
        "Since we have defined the states, let's try to define the actions that our agent need to perform to maximize the reward.\n",
        "\n",
        "These are the four actions that we are suggesting\n",
        "* action 0: battery_charge\n",
        "* action 1: battery_discharge\n",
        "* action 2: grid_import\n",
        "* action 3: grid_export\n",
        "\n"
      ]
    },
    {
      "cell_type": "markdown",
      "metadata": {
        "id": "4373F2BZHi8o"
      },
      "source": [
        "However, our simulation engine does not know what these actions are.\n",
        "\n",
        "For this, we have to map these actions to the simulation engines control signals"
      ]
    },
    {
      "cell_type": "code",
      "execution_count": 17,
      "metadata": {
        "id": "JgnXDMNaHi8o"
      },
      "outputs": [],
      "source": [
        "def actions_agent(mg0, action):\n",
        "    pv = mg0.pv\n",
        "    load = mg0.load\n",
        "    net_load = load - pv\n",
        "    capa_to_charge = mg0.battery.capa_to_charge  # remaining capacity to charge of the battery\n",
        "    p_charge_max = mg0.battery.p_charge_max  # charge speed of the battery\n",
        "    p_charge = max(0,min(-net_load, capa_to_charge, p_charge_max))  # charge value for the time\n",
        "\n",
        "    capa_to_discharge = mg0.battery.capa_to_discharge  # capacity of discharge\n",
        "    p_discharge_max = mg0.battery.p_discharge_max  # per hour discharge rate\n",
        "    p_discharge = max(0,min(net_load, capa_to_discharge, p_discharge_max))  # discharge value for the time\n",
        "\n",
        "    if action == 0:\n",
        "        control_dict = {'pv_consummed': min(pv,load),\n",
        "                        'battery_charge': p_charge,\n",
        "                        'battery_discharge': 0,\n",
        "                        'grid_import': 0,\n",
        "                        'grid_export':max(0,pv - min(pv,load) - p_charge)\n",
        "                       }\n",
        "    elif action ==1:\n",
        "        control_dict = {'pv_consummed': min(pv,load),\n",
        "                        'battery_charge': 0,\n",
        "                        'battery_discharge': p_discharge,\n",
        "                        'grid_import': max(0,load - min(pv,load) - p_discharge),\n",
        "                        'grid_export':0\n",
        "                       }\n",
        "    elif action ==2:\n",
        "        control_dict = {'pv_consummed': min(pv,load),\n",
        "                        'battery_charge': 0,\n",
        "                        'battery_discharge': 0,\n",
        "                        'grid_import': abs(net_load),\n",
        "                        'grid_export':0\n",
        "                       }\n",
        "    elif action == 3:\n",
        "        control_dict = {'pv_consummed': min(pv,load),\n",
        "                        'battery_charge': 0,\n",
        "                        'battery_discharge': 0,\n",
        "                        'grid_import': 0,\n",
        "                        'grid_export':abs(net_load)\n",
        "                       }\n",
        "\n",
        "    return control_dict"
      ]
    },
    {
      "cell_type": "markdown",
      "metadata": {
        "id": "AGIzVChiHi8o"
      },
      "source": [
        "## 8. Initializing the Q table"
      ]
    },
    {
      "cell_type": "code",
      "execution_count": 19,
      "metadata": {
        "id": "rePVGmBKHi8p"
      },
      "outputs": [],
      "source": [
        "def init_qtable(mg0, nb_action, net_load_params):\n",
        "\n",
        "    state = []\n",
        "    Q = {}\n",
        "\n",
        "    for i in range(round(net_load_params[0]),round(net_load_params[1])+1, 1):  # last 1 in the range is the discretize interval\n",
        "\n",
        "        for j in np.arange(round(mg0.battery.soc_min,1),round(mg0.battery.soc_max+0.1,1),0.1):\n",
        "\n",
        "            j = round(j,1)\n",
        "            state.append((i,j))\n",
        "\n",
        "    for s in state:\n",
        "\n",
        "        Q[s] = {}\n",
        "\n",
        "        for a in range(nb_action):\n",
        "\n",
        "            Q[s][a] = 0 # Initialize Q(s,a) at zero (We normally initialize Q at a higher reward than usual so that all the options are getting explored)\n",
        "\n",
        "    return Q"
      ]
    },
    {
      "cell_type": "markdown",
      "metadata": {
        "id": "6fVtOUpFHi8p"
      },
      "source": [
        "**Policy** is the way we select the action, given the Q-values.\n",
        "\n",
        "In this tutorial we have selected the famous **epsilon greedy policy**.\n",
        "\n",
        "To explain what this is, given a state, we act greedily (choose the action with the highest Q-value) 1-epsilon times while we randomly select an action epsilon of the time where the epsilon is a positive decreasing value less than 1. If interested, please take a look into the helper_functions.py where we have defined the policy.\n",
        "\n",
        "Since we act randomly epsilon times, our agent gets the chance to explore the environment. Since we decrease the epsilon with time, the agent takes less and less random actions and always tries to act greedily.\n",
        "\n",
        "Selecting epsilon is an important task and this is normally called the *Explore-Exploit dilemma.*"
      ]
    },
    {
      "cell_type": "markdown",
      "metadata": {
        "id": "ZasGkT4gHi8p"
      },
      "source": [
        "## 9. Q learning"
      ]
    },
    {
      "cell_type": "markdown",
      "metadata": {
        "id": "bRpa9Y2THi8p"
      },
      "source": [
        "To recap, here is the Q-learning algo (from Sutton and Barto's book)\n",
        "<img src=\"files/data/QlearningAlgo.png\">\n",
        "\n",
        "Now let's implement it for our application,"
      ]
    },
    {
      "cell_type": "code",
      "execution_count": 21,
      "metadata": {
        "id": "CHYlGADQHi8p"
      },
      "outputs": [],
      "source": [
        "def training_Q_Learning(mg, horizon, net_load_params, nb_episode = 100):\n",
        "\n",
        "    nb_action = 4\n",
        "    Q = init_qtable(mg,nb_action, net_load_params)  # initialise Q-table\n",
        "    nb_state = len(Q)\n",
        "    alpha = 0.1\n",
        "    epsilon = 0.99\n",
        "    gamma = 0.99\n",
        "\n",
        "    record_cost = []\n",
        "    t0 = time.time()\n",
        "    t = t0\n",
        "    print_training = \"Training Progressing\"\n",
        "    print_welcome(0)\n",
        "    for e in range(nb_episode+1):\n",
        "\n",
        "        # to print\n",
        "        value_print=\"\\r\"+ print_training +\"Episode \" + str(e) +\"/\" + str(nb_episode)\n",
        "        sys.stdout.write(value_print)\n",
        "        sys.stdout.flush()\n",
        "\n",
        "        # learning start\n",
        "        episode_cost = 0\n",
        "        mg.reset()\n",
        "\n",
        "        net_load = round(mg.load - mg.pv)\n",
        "        soc = round(mg.battery.soc,1)\n",
        "        s = (net_load, soc)\n",
        "\n",
        "        for i in range (horizon):\n",
        "            a = max_dict(Q[s])[0]  # action with max val\n",
        "            a, is_random = espilon_decreasing_greedy(a, epsilon, nb_action)  # action after epsilon greedy policy\n",
        "            action = actions_agent(mg,a)  # returns control_dict for the action\n",
        "\n",
        "            status = mg.run(action)\n",
        "            r = -mg.get_cost()\n",
        "            episode_cost += mg.get_cost()\n",
        "            net_load = round(mg.load - mg.pv)\n",
        "            soc = round(mg.battery.soc,1)\n",
        "            s_ = (net_load, soc)\n",
        "\n",
        "            Q[s][a] = Q[s][a] + alpha * (r + gamma*max_dict(Q[s_])[1] - Q[s][a])\n",
        "\n",
        "            s = s_\n",
        "\n",
        "        epsilon = update_epsilon(epsilon)  # decrease epsilon\n",
        "\n",
        "    return Q"
      ]
    },
    {
      "cell_type": "code",
      "execution_count": 22,
      "metadata": {
        "id": "meEgN78xHi8p"
      },
      "outputs": [],
      "source": [
        "def testing_Q_Learning(mg, Q,horizon):\n",
        "\n",
        "    mg.reset(testing=True)\n",
        "    net_load = round(mg.load - mg.pv)\n",
        "    soc = round(mg.battery.soc,1)\n",
        "    s = (net_load, soc)\n",
        "    a = max_dict(Q[s])[0]\n",
        "    total_cost = 0\n",
        "    print_welcome(1)\n",
        "    for i in range (horizon):\n",
        "\n",
        "        action_name = change_name_action(a)\n",
        "        action = actions_agent(mg, a)\n",
        "        status = mg.run(action)\n",
        "        cost = mg.get_cost()\n",
        "        total_cost += cost\n",
        "        print(i,\"-\",(int(net_load),soc),action_name, round(total_cost,1), \"€\")\n",
        "        net_load = round(mg.load - mg.pv)\n",
        "        soc = round(mg.battery.soc,1)\n",
        "        s_ = (net_load, soc)\n",
        "        a_ = max_dict(Q[s_])[0]\n",
        "\n",
        "        s, a = s_, a_"
      ]
    },
    {
      "cell_type": "code",
      "execution_count": 23,
      "metadata": {
        "id": "13izKAHSHi8y"
      },
      "outputs": [],
      "source": [
        "mg0.train_test_split(train_size=0.8)"
      ]
    },
    {
      "cell_type": "code",
      "execution_count": 24,
      "metadata": {
        "colab": {
          "base_uri": "https://localhost:8080/"
        },
        "id": "XIOh4fxMHi8y",
        "outputId": "d8eff5a8-2658-4284-8c1a-b091d2e7644c"
      },
      "outputs": [
        {
          "output_type": "stream",
          "name": "stdout",
          "text": [
            "------------------------------------\n",
            "|        WELCOME TO PYMGRID        |\n",
            "------------------------------------\n",
            "Training ProgressingEpisode 100/100"
          ]
        }
      ],
      "source": [
        "Q1 = training_Q_Learning(mg0,48,net_load_params,nb_episode=100)"
      ]
    },
    {
      "cell_type": "code",
      "execution_count": 25,
      "metadata": {
        "colab": {
          "base_uri": "https://localhost:8080/"
        },
        "id": "kVhtKiD2Hi8y",
        "outputId": "c90f6d28-3192-46a2-dd12-02e5d72f0fa2"
      },
      "outputs": [
        {
          "output_type": "stream",
          "name": "stdout",
          "text": [
            "t -     STATE  -  ACTION - COST\n",
            "================================\n",
            "0 - (1, 0.2) discharge 0.3 €\n",
            "1 - (1, 0.2) discharge 0.6 €\n",
            "2 - (1, 0.2) discharge 0.9 €\n",
            "3 - (1, 0.2) discharge 1.3 €\n",
            "4 - (2, 0.2) discharge 1.8 €\n",
            "5 - (3, 0.2) discharge 2.6 €\n",
            "6 - (4, 0.2) discharge 3.5 €\n",
            "7 - (3, 0.2) discharge 4.2 €\n",
            "8 - (1, 0.2) discharge 4.7 €\n",
            "9 - (1, 0.2) discharge 5.1 €\n",
            "10 - (1, 0.2) discharge 5.4 €\n",
            "11 - (1, 0.2) discharge 5.8 €\n",
            "12 - (0, 0.2) charge 10.5 €\n",
            "13 - (1, 0.2) discharge 10.8 €\n",
            "14 - (1, 0.2) discharge 11.5 €\n",
            "15 - (2, 0.2) discharge 12.9 €\n",
            "16 - (3, 0.2) discharge 14.8 €\n",
            "17 - (4, 0.2) discharge 17.1 €\n",
            "18 - (3, 0.2) discharge 18.2 €\n",
            "19 - (3, 0.2) discharge 19.2 €\n",
            "20 - (3, 0.2) discharge 20.2 €\n",
            "21 - (3, 0.2) discharge 21.0 €\n",
            "22 - (3, 0.2) discharge 21.8 €\n",
            "23 - (2, 0.2) discharge 22.2 €\n",
            "24 - (1, 0.2) discharge 22.5 €\n",
            "25 - (1, 0.2) discharge 22.8 €\n",
            "26 - (1, 0.2) discharge 23.2 €\n",
            "27 - (1, 0.2) discharge 23.5 €\n",
            "28 - (2, 0.2) discharge 24.0 €\n",
            "29 - (3, 0.2) discharge 24.8 €\n",
            "30 - (4, 0.2) discharge 25.7 €\n",
            "31 - (3, 0.2) discharge 26.5 €\n",
            "32 - (2, 0.2) discharge 27.0 €\n",
            "33 - (2, 0.2) discharge 27.5 €\n",
            "34 - (1, 0.2) discharge 27.9 €\n",
            "35 - (1, 0.2) discharge 28.2 €\n",
            "36 - (0, 0.2) charge 31.3 €\n",
            "37 - (1, 0.2) discharge 31.8 €\n",
            "38 - (1, 0.2) discharge 32.4 €\n",
            "39 - (2, 0.2) discharge 33.9 €\n",
            "40 - (3, 0.2) discharge 35.7 €\n",
            "41 - (4, 0.2) discharge 38.0 €\n",
            "42 - (3, 0.2) discharge 39.1 €\n",
            "43 - (3, 0.2) discharge 40.1 €\n",
            "44 - (3, 0.2) discharge 41.1 €\n",
            "45 - (3, 0.2) discharge 41.9 €\n",
            "46 - (3, 0.2) discharge 42.7 €\n",
            "47 - (2, 0.2) discharge 43.2 €\n"
          ]
        }
      ],
      "source": [
        "testing_Q_Learning(mg0,Q1, 48)"
      ]
    },
    {
      "cell_type": "markdown",
      "metadata": {
        "id": "wh39Tx2GHi8z"
      },
      "source": [
        "## 10. SARSA Algorithm"
      ]
    },
    {
      "cell_type": "markdown",
      "metadata": {
        "id": "Whn7U7UiHi8z"
      },
      "source": [
        "To recap, here is the SARSA algo (from Sutton and Barto's book)\n",
        "<img src=\"files/data/SARSAalgo.png\">"
      ]
    },
    {
      "cell_type": "markdown",
      "metadata": {
        "id": "ImUh7jGzHi83"
      },
      "source": [
        "1. Why is SARSA called an on-policy learning and Q-learning is an off-policy learning?\n",
        "\n",
        "2. What changes to do in the Q-learning to make it SARSA?"
      ]
    },
    {
      "cell_type": "markdown",
      "metadata": {
        "id": "Jy2JSYsMHi83"
      },
      "source": [
        "--answer here--"
      ]
    },
    {
      "cell_type": "markdown",
      "metadata": {
        "id": "_KWBzwPOHi83"
      },
      "source": [
        "## 11. What could go wrong"
      ]
    },
    {
      "cell_type": "markdown",
      "metadata": {
        "id": "NCgC8B1qHi83"
      },
      "source": [
        "1. According to the above implementation of states, what could go wrong?\n",
        "2. Any possible improvements?"
      ]
    },
    {
      "cell_type": "markdown",
      "metadata": {
        "id": "ZR2M6c6_Hi83"
      },
      "source": [
        "--answer here--"
      ]
    },
    {
      "cell_type": "markdown",
      "metadata": {
        "id": "m-ByhrmkHi84"
      },
      "source": [
        "## 12. Deep Q-learning"
      ]
    },
    {
      "cell_type": "markdown",
      "metadata": {
        "id": "8HkN-QPaHi84"
      },
      "source": [
        "So, how to use Neural networks to achieve a better result of the above Q-learning?"
      ]
    },
    {
      "cell_type": "markdown",
      "metadata": {
        "id": "3lDIGI6kHi84"
      },
      "source": [
        "<img src=\"files/data/deepQ.png\">\n",
        "<p style=\"text-align: center; font-weight:bold;\">Figure 4: A basic Deep Q-Learning Architecture</p>\n"
      ]
    },
    {
      "cell_type": "markdown",
      "metadata": {
        "id": "mt_1EP2lHi84"
      },
      "source": [
        "In here we input the state variables and try to predict the Q values for each state. Since this is a supervised task, what can we use as the target since we do not know the Q-values.\n",
        "\n",
        "So in here, the trick is create a copy of the network and keep one as a target and train the other. To converge the Q values faster, we only update the learnt parameters to the target network only in every **K**th iteration\n",
        "<img src=\"files/data/deepQtrain.png\" width=400>\n",
        "<p style=\"text-align: center; font-weight:bold;\">Figure 5: Training process of the Deep Q-Learning Architecture</p>\n"
      ]
    },
    {
      "cell_type": "markdown",
      "metadata": {
        "id": "ELxS4oTdHi84"
      },
      "source": [
        "There are some libraries that have already implemented such networks. One good example if you are using Keras is [The Keras-RL Library](https://github.com/keras-rl/keras-rl). Here we are only supposed to input our deep network with our open-gym like environment.\n",
        "\n",
        "Due to the time constraints, we do not wish to explain this in detail.\n",
        "\n",
        "Please refer to this [example](https://github.com/keras-rl/keras-rl/blob/master/examples/dqn_cartpole.py) if you are interested.\n",
        "\n",
        "[This](https://github.com/p-christ/Deep-Reinforcement-Learning-Algorithms-with-PyTorch) might be a good starting point if you are using Pytorch for model implementation.\n",
        "\n",
        "If you are using such an external library, please make sure to use the exact dependency (example same TF and Keras version) for convenience."
      ]
    },
    {
      "cell_type": "markdown",
      "metadata": {
        "id": "6iOiP3GaHi84"
      },
      "source": [
        "In conclusion, It is important to note that Deep Q is really important when the action space is also continuous."
      ]
    },
    {
      "cell_type": "markdown",
      "metadata": {
        "id": "O8HYw5gHHi84"
      },
      "source": [
        "## References\n",
        "\n",
        "A. T. D. Perera, R. A. Attalage and K. K. C. K. Perera “An optimal design of a grid connected hybrid electrical energy system using evolutionary computation” IEEE-ICIIS 2013\n",
        "\n",
        "G Henri,T Levent, A Halev, R Alami and P Cordier “pymgrid: An Open-Source Python Microgrid Simulator for Applied Artificial Intelligence Research” https://arxiv.org/abs/2011.08004\n",
        "\n",
        "Richard S. Sutton and Andrew G. Barto “Reinforcement Learning: An Introduction” 2nd Edition The MIT Press, 2017\n"
      ]
    }
  ],
  "metadata": {
    "kernelspec": {
      "display_name": "Python 3",
      "language": "python",
      "name": "python3"
    },
    "language_info": {
      "codemirror_mode": {
        "name": "ipython",
        "version": 3
      },
      "file_extension": ".py",
      "mimetype": "text/x-python",
      "name": "python",
      "nbconvert_exporter": "python",
      "pygments_lexer": "ipython3",
      "version": "3.8.2"
    },
    "colab": {
      "provenance": []
    }
  },
  "nbformat": 4,
  "nbformat_minor": 0
}